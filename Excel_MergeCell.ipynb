{
 "cells": [
  {
   "cell_type": "code",
   "execution_count": 12,
   "id": "73083853",
   "metadata": {},
   "outputs": [],
   "source": [
    "# trabalhando com merge\n",
    "import xlsxwriter as opcoesXlsxWriter\n",
    "import os\n",
    "\n",
    "nomeCaminhoArquivo = \"C:\\\\Users\\jasantos\\Curso RPA\\RPA_MergeCell\\MergeCelulas.xlsx\"\n",
    "minhaPlanilha = opcoesXlsxWriter.Workbook(nomeCaminhoArquivo)\n",
    "\n",
    "# seleciona a sheet que tem as informações a serem passadas para o formulario on-line\n",
    "sheetPadrao = minhaPlanilha.add_worksheet()\n",
    "\n",
    "# definindo formataçoes\n",
    "add_merge_celulas = minhaPlanilha.add_format({\n",
    "    'bold': True,\n",
    "    'border': 6,\n",
    "    'align': 'center',\n",
    "    'valign': 'vcenter',\n",
    "    'size': 30,\n",
    "    'fg_color': 'blue',\n",
    "    'font_color': 'white',\n",
    "})\n",
    "# aplicando o merge formatado \n",
    "sheetPadrao.merge_range('B3:I5', 'Título com Merge de Células',add_merge_celulas)\n",
    "\n",
    "# minhaPlanilha.save(nomeCaminhoArquivo.Workbook)\n",
    "\n",
    "\n",
    "# Fechando arquivo\n",
    "minhaPlanilha.close()\n",
    "\n",
    "# abrindo o arquivo\n",
    "os.startfile(nomeCaminhoArquivo)"
   ]
  },
  {
   "cell_type": "code",
   "execution_count": null,
   "id": "10c1bdf0",
   "metadata": {},
   "outputs": [],
   "source": []
  }
 ],
 "metadata": {
  "kernelspec": {
   "display_name": "Python 3 (ipykernel)",
   "language": "python",
   "name": "python3"
  },
  "language_info": {
   "codemirror_mode": {
    "name": "ipython",
    "version": 3
   },
   "file_extension": ".py",
   "mimetype": "text/x-python",
   "name": "python",
   "nbconvert_exporter": "python",
   "pygments_lexer": "ipython3",
   "version": "3.9.12"
  }
 },
 "nbformat": 4,
 "nbformat_minor": 5
}
